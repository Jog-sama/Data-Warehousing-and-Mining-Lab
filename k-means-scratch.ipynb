{
 "cells": [
  {
   "cell_type": "code",
   "execution_count": 15,
   "metadata": {},
   "outputs": [
    {
     "data": {
      "text/html": [
       "<div>\n",
       "<style scoped>\n",
       "    .dataframe tbody tr th:only-of-type {\n",
       "        vertical-align: middle;\n",
       "    }\n",
       "\n",
       "    .dataframe tbody tr th {\n",
       "        vertical-align: top;\n",
       "    }\n",
       "\n",
       "    .dataframe thead th {\n",
       "        text-align: right;\n",
       "    }\n",
       "</style>\n",
       "<table border=\"1\" class=\"dataframe\">\n",
       "  <thead>\n",
       "    <tr style=\"text-align: right;\">\n",
       "      <th></th>\n",
       "      <th>score_id</th>\n",
       "      <th>gre_score</th>\n",
       "      <th>toefl_and_ielts_scores</th>\n",
       "      <th>quants_score</th>\n",
       "      <th>verbal_score</th>\n",
       "      <th>cgpa</th>\n",
       "    </tr>\n",
       "  </thead>\n",
       "  <tbody>\n",
       "    <tr>\n",
       "      <th>0</th>\n",
       "      <td>2021001</td>\n",
       "      <td>331</td>\n",
       "      <td>115</td>\n",
       "      <td>168</td>\n",
       "      <td>157</td>\n",
       "      <td>3.8</td>\n",
       "    </tr>\n",
       "    <tr>\n",
       "      <th>1</th>\n",
       "      <td>2021002</td>\n",
       "      <td>321</td>\n",
       "      <td>104</td>\n",
       "      <td>165</td>\n",
       "      <td>153</td>\n",
       "      <td>3.8</td>\n",
       "    </tr>\n",
       "    <tr>\n",
       "      <th>2</th>\n",
       "      <td>2021003</td>\n",
       "      <td>313</td>\n",
       "      <td>103</td>\n",
       "      <td>169</td>\n",
       "      <td>145</td>\n",
       "      <td>3.9</td>\n",
       "    </tr>\n",
       "    <tr>\n",
       "      <th>3</th>\n",
       "      <td>2021004</td>\n",
       "      <td>329</td>\n",
       "      <td>112</td>\n",
       "      <td>155</td>\n",
       "      <td>152</td>\n",
       "      <td>3.7</td>\n",
       "    </tr>\n",
       "    <tr>\n",
       "      <th>4</th>\n",
       "      <td>2021005</td>\n",
       "      <td>310</td>\n",
       "      <td>110</td>\n",
       "      <td>155</td>\n",
       "      <td>157</td>\n",
       "      <td>3.6</td>\n",
       "    </tr>\n",
       "  </tbody>\n",
       "</table>\n",
       "</div>"
      ],
      "text/plain": [
       "   score_id  gre_score  toefl_and_ielts_scores  quants_score  verbal_score  \\\n",
       "0   2021001        331                     115           168           157   \n",
       "1   2021002        321                     104           165           153   \n",
       "2   2021003        313                     103           169           145   \n",
       "3   2021004        329                     112           155           152   \n",
       "4   2021005        310                     110           155           157   \n",
       "\n",
       "   cgpa  \n",
       "0   3.8  \n",
       "1   3.8  \n",
       "2   3.9  \n",
       "3   3.7  \n",
       "4   3.6  "
      ]
     },
     "execution_count": 15,
     "metadata": {},
     "output_type": "execute_result"
    }
   ],
   "source": [
    "import numpy as np\n",
    "import pandas as pd\n",
    "import matplotlib.pyplot as plt\n",
    "import seaborn as sns\n",
    "import random as rd\n",
    "%matplotlib inline\n",
    "\n",
    "dataset=pd.read_csv('CollegeLake_Exam_scores.csv')\n",
    "dataset.head()"
   ]
  },
  {
   "cell_type": "code",
   "execution_count": 17,
   "metadata": {},
   "outputs": [
    {
     "name": "stdout",
     "output_type": "stream",
     "text": [
      "[[  3.8 331. ]\n",
      " [  3.8 321. ]\n",
      " [  3.9 313. ]\n",
      " [  3.7 329. ]\n",
      " [  3.6 310. ]\n",
      " [  3.9 316. ]\n",
      " [  3.9 324. ]\n",
      " [  3.8 329. ]\n",
      " [  3.9 326. ]\n",
      " [  3.7 309. ]\n",
      " [  3.6 321. ]\n",
      " [  3.6 315. ]\n",
      " [  3.8 310. ]\n",
      " [  3.5 300. ]\n",
      " [  3.2 321. ]\n",
      " [  3.8 300. ]\n",
      " [  3.5 310. ]\n",
      " [  3.2 297. ]\n",
      " [  3.5 318. ]\n",
      " [  3.7 311. ]\n",
      " [  3.6 322. ]\n",
      " [  3.5 298. ]\n",
      " [  3.8 322. ]\n",
      " [  3.8 305. ]\n",
      " [  3.8 305. ]\n",
      " [  3.7 324. ]\n",
      " [  3.9 316. ]\n",
      " [  3.7 324. ]\n",
      " [  3.7 325. ]\n",
      " [  3.9 323. ]\n",
      " [  3.4 321. ]\n",
      " [  3.8 307. ]\n",
      " [  3.7 307. ]\n",
      " [  3.7 318. ]\n",
      " [  3.8 307. ]\n",
      " [  3.8 316. ]\n",
      " [  3.3 308. ]\n",
      " [  3.5 305. ]\n",
      " [  3.2 332. ]\n",
      " [  3.4 312. ]\n",
      " [  3.6 306. ]\n",
      " [  3.4 322. ]\n",
      " [  3.9 301. ]\n",
      " [  3.4 313. ]\n",
      " [  3.9 301. ]\n",
      " [  3.8 312. ]\n",
      " [  3.9 322. ]\n",
      " [  3.8 332. ]\n",
      " [  3.7 320. ]\n",
      " [  3.4 323. ]\n",
      " [  3.7 325. ]\n",
      " [  3.5 320. ]\n",
      " [  3.7 325. ]\n",
      " [  3.7 318. ]\n",
      " [  3.5 314. ]\n",
      " [  3.4 307. ]\n",
      " [  3.7 312. ]\n",
      " [  3.4 309. ]\n",
      " [  3.3 320. ]\n",
      " [  3.4 299. ]\n",
      " [  3.8 324. ]\n",
      " [  3.9 325. ]\n",
      " [  3.8 310. ]\n",
      " [  3.6 311. ]\n",
      " [  3.9 329. ]\n",
      " [  3.4 319. ]\n",
      " [  3.9 311. ]\n",
      " [  3.8 321. ]\n",
      " [  3.6 322. ]\n",
      " [  3.8 314. ]\n",
      " [  3.9 316. ]\n",
      " [  3.7 313. ]\n",
      " [  3.8 303. ]\n",
      " [  3.3 315. ]\n",
      " [  3.9 313. ]\n",
      " [  3.9 317. ]\n",
      " [  3.7 317. ]\n",
      " [  3.4 303. ]\n",
      " [  3.9 317. ]\n",
      " [  3.2 314. ]\n",
      " [  3.9 317. ]\n",
      " [  3.9 317. ]\n",
      " [  3.9 317. ]\n",
      " [  3.4 302. ]\n",
      " [  3.3 284. ]\n",
      " [  3.7 316. ]\n",
      " [  3.3 301. ]\n",
      " [  3.7 316. ]\n",
      " [  3.7 316. ]\n",
      " [  3.8 309. ]\n",
      " [  3.9 315. ]\n",
      " [  3.6 333. ]\n",
      " [  3.8 321. ]\n",
      " [  3.9 308. ]\n",
      " [  3.6 328. ]\n",
      " [  3.4 296. ]\n",
      " [  3.7 306. ]\n",
      " [  3.7 306. ]\n",
      " [  3.7 306. ]\n",
      " [  3.4 296. ]]\n"
     ]
    }
   ],
   "source": [
    "dataset.describe()\n",
    "X = dataset.iloc[:,[5,1]].values\n",
    "print(X)"
   ]
  },
  {
   "cell_type": "code",
   "execution_count": 19,
   "metadata": {},
   "outputs": [
    {
     "name": "stdout",
     "output_type": "stream",
     "text": [
      "100\n",
      "2\n"
     ]
    }
   ],
   "source": [
    "m = X.shape[0]  # training data size\n",
    "n = X.shape[1]  # training variables\n",
    "n_iter = 100\n",
    "\n",
    "print(m)\n",
    "print(n)"
   ]
  },
  {
   "cell_type": "code",
   "execution_count": 21,
   "metadata": {},
   "outputs": [
    {
     "name": "stdout",
     "output_type": "stream",
     "text": [
      "[]\n"
     ]
    }
   ],
   "source": [
    "K=5 #clusters\n",
    "\n",
    "Centroid = np.array([]).reshape(n, 0)\n",
    "print(Centroid)"
   ]
  },
  {
   "cell_type": "code",
   "execution_count": null,
   "metadata": {},
   "outputs": [],
   "source": [
    "for i in range(K):\n",
    "    rand = rd.randint(0, m-1)\n",
    "    Centroid = np.c_[Centroid, X[rand]]\n"
   ]
  }
 ],
 "metadata": {
  "kernelspec": {
   "display_name": "Python 3.10.4 64-bit",
   "language": "python",
   "name": "python3"
  },
  "language_info": {
   "codemirror_mode": {
    "name": "ipython",
    "version": 3
   },
   "file_extension": ".py",
   "mimetype": "text/x-python",
   "name": "python",
   "nbconvert_exporter": "python",
   "pygments_lexer": "ipython3",
   "version": "3.10.4"
  },
  "orig_nbformat": 4,
  "vscode": {
   "interpreter": {
    "hash": "ea94815bafe94137b35352c49355785adc7d585b397f5cf9c003fa847827c1d4"
   }
  }
 },
 "nbformat": 4,
 "nbformat_minor": 2
}
