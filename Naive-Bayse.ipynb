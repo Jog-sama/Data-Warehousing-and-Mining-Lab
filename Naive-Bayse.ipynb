{
 "cells": [
  {
   "cell_type": "code",
   "execution_count": 9,
   "metadata": {},
   "outputs": [],
   "source": [
    "from operator import index\n",
    "import pandas as pd\n",
    "import numpy as np"
   ]
  },
  {
   "cell_type": "code",
   "execution_count": 10,
   "metadata": {},
   "outputs": [],
   "source": [
    "df = pd.read_csv('adult.csv', index_col=False, header=None)\n",
    "df = df[:100]\n",
    "\n",
    "col_names = ['age', 'workclass', 'fnlwgt', 'education', 'education_num', 'marital_status', 'occupation', 'relationship',\n",
    "                'race', 'sex', 'capital_gain', 'capital_loss', 'hours_per_week', 'native_country', 'income']\n",
    "df.columns = col_names"
   ]
  },
  {
   "cell_type": "code",
   "execution_count": 11,
   "metadata": {},
   "outputs": [],
   "source": [
    "targer_set = 'income'\n",
    "feature_set = ['age', 'workclass', 'education', 'marital_status', 'occupation',\n",
    "                'relationship', 'race', 'sex', 'hours_per_week', 'native_country']\n",
    "targetcount = df[targer_set].value_counts().tolist()\n"
   ]
  },
  {
   "cell_type": "code",
   "execution_count": 12,
   "metadata": {},
   "outputs": [],
   "source": [
    "feature_list = {}\n",
    "likelyhood = []\n",
    "feature_count = []\n",
    "\n",
    "for i in feature_set:\n",
    "    # make a pivot table with feature and target with columns as the target and rows as unique values from feature set\n",
    "    table = pd.crosstab(df[i], df[targer_set])\n",
    "    likelyhood.append(table.to_numpy())\n",
    "    feature_list[i] = table.index.to_list()"
   ]
  },
  {
   "cell_type": "code",
   "execution_count": 13,
   "metadata": {},
   "outputs": [
    {
     "name": "stdout",
     "output_type": "stream",
     "text": [
      "[array([[0.04      , 0.        ],\n",
      "       [0.04      , 0.        ],\n",
      "       [0.01333333, 0.        ],\n",
      "       [0.01333333, 0.        ],\n",
      "       [0.01333333, 0.        ],\n",
      "       [0.04      , 0.        ],\n",
      "       [0.01333333, 0.        ],\n",
      "       [0.05333333, 0.        ],\n",
      "       [0.01333333, 0.        ],\n",
      "       [0.04      , 0.        ],\n",
      "       [0.04      , 0.04      ],\n",
      "       [0.06666667, 0.04      ],\n",
      "       [0.04      , 0.08      ],\n",
      "       [0.05333333, 0.        ],\n",
      "       [0.01333333, 0.        ],\n",
      "       [0.01333333, 0.04      ],\n",
      "       [0.02666667, 0.        ],\n",
      "       [0.01333333, 0.        ],\n",
      "       [0.02666667, 0.08      ],\n",
      "       [0.02666667, 0.        ],\n",
      "       [0.02666667, 0.        ],\n",
      "       [0.01333333, 0.08      ],\n",
      "       [0.02666667, 0.        ],\n",
      "       [0.        , 0.08      ],\n",
      "       [0.01333333, 0.12      ],\n",
      "       [0.01333333, 0.04      ],\n",
      "       [0.01333333, 0.        ],\n",
      "       [0.02666667, 0.        ],\n",
      "       [0.01333333, 0.04      ],\n",
      "       [0.05333333, 0.04      ],\n",
      "       [0.04      , 0.08      ],\n",
      "       [0.01333333, 0.04      ],\n",
      "       [0.01333333, 0.04      ],\n",
      "       [0.05333333, 0.04      ],\n",
      "       [0.01333333, 0.04      ],\n",
      "       [0.        , 0.04      ],\n",
      "       [0.01333333, 0.04      ],\n",
      "       [0.02666667, 0.        ],\n",
      "       [0.01333333, 0.        ],\n",
      "       [0.01333333, 0.        ]]), array([[0.04      , 0.04      ],\n",
      "       [0.04      , 0.12      ],\n",
      "       [0.04      , 0.12      ],\n",
      "       [0.77333333, 0.48      ],\n",
      "       [0.01333333, 0.04      ],\n",
      "       [0.05333333, 0.16      ],\n",
      "       [0.04      , 0.04      ]]), array([[0.01333333, 0.        ],\n",
      "       [0.06666667, 0.        ],\n",
      "       [0.01333333, 0.        ],\n",
      "       [0.04      , 0.        ],\n",
      "       [0.05333333, 0.        ],\n",
      "       [0.06666667, 0.        ],\n",
      "       [0.05333333, 0.04      ],\n",
      "       [0.13333333, 0.28      ],\n",
      "       [0.        , 0.16      ],\n",
      "       [0.33333333, 0.16      ],\n",
      "       [0.04      , 0.08      ],\n",
      "       [0.        , 0.04      ],\n",
      "       [0.18666667, 0.24      ]]), array([[0.16      , 0.12      ],\n",
      "       [0.01333333, 0.        ],\n",
      "       [0.46666667, 0.8       ],\n",
      "       [0.02666667, 0.        ],\n",
      "       [0.29333333, 0.08      ],\n",
      "       [0.04      , 0.        ]]), array([[0.04      , 0.04      ],\n",
      "       [0.10666667, 0.04      ],\n",
      "       [0.06666667, 0.08      ],\n",
      "       [0.10666667, 0.24      ],\n",
      "       [0.04      , 0.        ],\n",
      "       [0.05333333, 0.        ],\n",
      "       [0.12      , 0.        ],\n",
      "       [0.13333333, 0.        ],\n",
      "       [0.10666667, 0.32      ],\n",
      "       [0.01333333, 0.08      ],\n",
      "       [0.13333333, 0.12      ],\n",
      "       [0.04      , 0.08      ],\n",
      "       [0.04      , 0.        ]]), array([[0.37333333, 0.72      ],\n",
      "       [0.21333333, 0.16      ],\n",
      "       [0.01333333, 0.        ],\n",
      "       [0.2       , 0.        ],\n",
      "       [0.12      , 0.04      ],\n",
      "       [0.08      , 0.08      ]]), array([[0.01333333, 0.        ],\n",
      "       [0.01333333, 0.12      ],\n",
      "       [0.14666667, 0.08      ],\n",
      "       [0.01333333, 0.        ],\n",
      "       [0.81333333, 0.8       ]]), array([[0.26666667, 0.24      ],\n",
      "       [0.73333333, 0.76      ]]), array([[0.01333333, 0.        ],\n",
      "       [0.01333333, 0.        ],\n",
      "       [0.01333333, 0.        ],\n",
      "       [0.01333333, 0.        ],\n",
      "       [0.02666667, 0.        ],\n",
      "       [0.01333333, 0.        ],\n",
      "       [0.02666667, 0.        ],\n",
      "       [0.04      , 0.        ],\n",
      "       [0.01333333, 0.        ],\n",
      "       [0.05333333, 0.        ],\n",
      "       [0.01333333, 0.04      ],\n",
      "       [0.56      , 0.4       ],\n",
      "       [0.02666667, 0.        ],\n",
      "       [0.01333333, 0.        ],\n",
      "       [0.01333333, 0.12      ],\n",
      "       [0.02666667, 0.04      ],\n",
      "       [0.06666667, 0.12      ],\n",
      "       [0.01333333, 0.        ],\n",
      "       [0.        , 0.04      ],\n",
      "       [0.01333333, 0.        ],\n",
      "       [0.01333333, 0.16      ],\n",
      "       [0.        , 0.04      ],\n",
      "       [0.01333333, 0.04      ]]), array([[0.04      , 0.08      ],\n",
      "       [0.02666667, 0.        ],\n",
      "       [0.01333333, 0.        ],\n",
      "       [0.        , 0.04      ],\n",
      "       [0.        , 0.04      ],\n",
      "       [0.01333333, 0.        ],\n",
      "       [0.04      , 0.        ],\n",
      "       [0.02666667, 0.        ],\n",
      "       [0.        , 0.04      ],\n",
      "       [0.84      , 0.8       ]])]\n"
     ]
    }
   ],
   "source": [
    "likelyhood_prob = []\n",
    "for i in likelyhood:\n",
    "    likelyhood_prob.append(np.divide(i, targetcount))\n",
    "\n",
    "print(likelyhood_prob)"
   ]
  },
  {
   "cell_type": "code",
   "execution_count": 14,
   "metadata": {},
   "outputs": [],
   "source": [
    "valuesss = df[targer_set].unique()"
   ]
  },
  {
   "cell_type": "code",
   "execution_count": 15,
   "metadata": {},
   "outputs": [],
   "source": [
    "def naive_bayes(**kwargs):\n",
    "    prob_yes = 1\n",
    "    prob_no = 1\n",
    "    j = 0\n",
    "    p_yes = targetcount[0]/sum(targetcount)\n",
    "    p_no = targetcount[1]/sum(targetcount)\n",
    "    for i, value in kwargs.items():\n",
    "        if feature_set[j] == i:\n",
    "            prob_yes *= likelyhood_prob[feature_set.index(\n",
    "                i)][feature_list[i].index(value)][0]\n",
    "            prob_no *= likelyhood_prob[feature_set.index(\n",
    "                i)][feature_list[i].index(value)][1]\n",
    "            j += 1\n",
    "        elif j < len(feature_set):\n",
    "            j += 1\n",
    "        else:\n",
    "            j = 0\n",
    "\n",
    "    prob_yes *= p_yes\n",
    "    prob_no *= p_no\n",
    "\n",
    "    if prob_yes > prob_no:\n",
    "        return valuesss[0]\n",
    "    else:\n",
    "        return valuesss[1]"
   ]
  },
  {
   "cell_type": "code",
   "execution_count": 16,
   "metadata": {},
   "outputs": [
    {
     "name": "stdout",
     "output_type": "stream",
     "text": [
      " >50K\n",
      " <=50K\n"
     ]
    }
   ],
   "source": [
    "\n",
    "print(naive_bayes(age=34, workclass=' Local-gov', education=' Bachelors',\n",
    "                    marital_status=' Married-civ-spouse', occupation=' Protective-serv', relationship=' Husband'))\n",
    "\n",
    "print(naive_bayes(age=39, workclass=' State-gov', education=' Bachelors', marital_status=' Never-married', occupation=' Adm-clerical',\n",
    "                    relationship=' Not-in-family', race=' White', sex=' Male', hours_per_week=40, native_country=' United-States'))\n"
   ]
  }
 ],
 "metadata": {
  "kernelspec": {
   "display_name": "Python 3",
   "language": "python",
   "name": "python3"
  },
  "language_info": {
   "codemirror_mode": {
    "name": "ipython",
    "version": 3
   },
   "file_extension": ".py",
   "mimetype": "text/x-python",
   "name": "python",
   "nbconvert_exporter": "python",
   "pygments_lexer": "ipython3",
   "version": "3.11.1"
  }
 },
 "nbformat": 4,
 "nbformat_minor": 2
}
